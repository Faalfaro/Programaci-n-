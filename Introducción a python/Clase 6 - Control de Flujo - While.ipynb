{
 "cells": [
  {
   "cell_type": "markdown",
   "metadata": {},
   "source": [
    "# Clase 6\n",
    "\n",
    "\n",
    "## Control de flujo: ciclos\n",
    "\n",
    "### while\n",
    "\n",
    "Permite ejecutar varias veces la misma sección de código mientras se cumpla una condición\n",
    "\n",
    "#### Sintaxis\n",
    "\n",
    "```python\n",
    "while condicion:\n",
    "    bloque_de_codigo_while\n",
    "    ...\n",
    "    ...\n",
    "    ...\n",
    "    bloque_de_codigo_while\n",
    "    \n",
    "codigo_fuera_del_while\n",
    "codigo_fuera_del_while\n",
    "\n",
    "```\n",
    "\n",
    "Si se cumple la condición, se ejecutan todas las líneas del while. Después de ejecutar la última línea se revisa si la condición se sigue cumpliendo. En caso afirmativo, se vuelven a ejecutar todas las líneas del while y se vuelve a verificar. En caso contrario se termina el ciclo y se ejecuta el código que está después del while."
   ]
  },
  {
   "cell_type": "code",
   "execution_count": null,
   "metadata": {},
   "outputs": [],
   "source": [
    "i = 0\n",
    "while i < 10:\n",
    "    print(i)\n",
    "    i = i + 1"
   ]
  },
  {
   "cell_type": "markdown",
   "metadata": {},
   "source": [
    "Hay que tener cuidado con hacer ciclos cuyas condiciones son siempre verdaderas, ya que harán que el programa se quede pegado. Por ejemplo:\n",
    "\n",
    "```python\n",
    "#Ciclo infinito 1\n",
    "while True:\n",
    "    print('Nunca saldremos de este while D:')\n",
    "\n",
    "#Ciclo infinito 2\n",
    "while 1 < 10:\n",
    "    print('Quizás si el 1 se vuelve más grande que el 10 lograremos salir de aquí algún día')\n",
    "\n",
    "#Ciclo infinito 3\n",
    "a = int(input('Ingresa un entero entre 0 y 9: '))\n",
    "valido = a >= 0 and a <=9\n",
    "\n",
    "while valido:\n",
    "    print('Gracias por ingresar', a)\n",
    "\n",
    "print('No hay más números')\n",
    "```"
   ]
  },
  {
   "cell_type": "markdown",
   "metadata": {
    "collapsed": true
   },
   "source": [
    "#### Versión del ejemplo 3 que sí termina\n",
    "Lo importante es actualizar la condición del ```while``` para que en algún momento se haga falsa y termine el ciclo"
   ]
  },
  {
   "cell_type": "code",
   "execution_count": null,
   "metadata": {},
   "outputs": [],
   "source": [
    "a = int(input('Ingresa un entero entre 0 y 9: '))\n",
    "valido = a >= 0 and a <= 9\n",
    "\n",
    "# valido = True\n",
    "while valido:\n",
    "    a = int(input('Ingresa un entero entre 0 y 9: '))\n",
    "    print('Gracias por ingresar', a)\n",
    "    valido = a >= 0 and a <= 9\n",
    "\n",
    "print('No hay más números')"
   ]
  },
  {
   "cell_type": "markdown",
   "metadata": {},
   "source": [
    "## Actividades"
   ]
  },
  {
   "cell_type": "markdown",
   "metadata": {},
   "source": [
    "### Contando de 1 a n\n",
    "Escribir un programa que solicite un número n al usuario e imprima todos los números desde 1 hasta n"
   ]
  },
  {
   "cell_type": "code",
   "execution_count": null,
   "metadata": {},
   "outputs": [],
   "source": [
    "#Código 1 a n"
   ]
  },
  {
   "cell_type": "markdown",
   "metadata": {},
   "source": [
    "### Pares de 1 a n\n",
    "Escribir un programa que solicite un número n al usuario e imprima todos los números pares entre 1 y n"
   ]
  },
  {
   "cell_type": "code",
   "execution_count": null,
   "metadata": {},
   "outputs": [],
   "source": [
    "#Código pares"
   ]
  },
  {
   "cell_type": "markdown",
   "metadata": {},
   "source": [
    "### Marcador de fútbol\n",
    "\n",
    "Un programa que lleva la cuenta del marcador de un partido de fútbol. \n",
    "1. Mientras no se haya acabado el partido\n",
    "    1. El usuario ingresa quién anotó:\n",
    "        * 1: local\n",
    "        * 2: visita\n",
    "        * cualquier otro caso: fin del partido\n",
    "    2. Se muestra el marcador\n",
    "2. Se indica el ganador, o empate según corresponda"
   ]
  },
  {
   "cell_type": "code",
   "execution_count": 1,
   "metadata": {},
   "outputs": [
    {
     "name": "stdout",
     "output_type": "stream",
     "text": [
      "¿Quién anotó? 1\n",
      "1 - 0\n",
      "¿Quién anotó? 2\n",
      "1 - 1\n",
      "¿Quién anotó? 2\n",
      "1 - 2\n",
      "¿Quién anotó? fin\n",
      "1 - 2\n",
      "gana visita\n"
     ]
    }
   ],
   "source": [
    "#Código marcador"
   ]
  },
  {
   "cell_type": "markdown",
   "metadata": {},
   "source": [
    "### Primo\n",
    "Escribir un programa que solicite un número n al usuario e indique si es primo o no. El programa debe terminar si el usuario ingresa el número 1."
   ]
  },
  {
   "cell_type": "code",
   "execution_count": null,
   "metadata": {},
   "outputs": [],
   "source": [
    "#Código primo"
   ]
  }
 ],
 "metadata": {
  "anaconda-cloud": {},
  "kernelspec": {
   "display_name": "Python 3",
   "language": "python",
   "name": "python3"
  },
  "language_info": {
   "codemirror_mode": {
    "name": "ipython",
    "version": 3
   },
   "file_extension": ".py",
   "mimetype": "text/x-python",
   "name": "python",
   "nbconvert_exporter": "python",
   "pygments_lexer": "ipython3",
   "version": "3.6.3"
  }
 },
 "nbformat": 4,
 "nbformat_minor": 1
}
