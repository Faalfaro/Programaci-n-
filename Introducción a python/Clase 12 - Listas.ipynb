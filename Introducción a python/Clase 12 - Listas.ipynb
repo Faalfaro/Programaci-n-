{
 "cells": [
  {
   "cell_type": "markdown",
   "metadata": {},
   "source": [
    "# Clase 12\n",
    "\n",
    "## Listas\n",
    "\n",
    "Las listas son ***secuencias mutables*** de elementos.\n",
    "El propósito de las listas es manejar colecciones homogéneas de datos (homogénea va a depender de la aplicación).\n",
    "\n",
    "\n",
    "\n",
    "#### Sintaxis\n",
    "\n",
    "```python\n",
    "lista = [ elemento0, elemento1, elemento2, ... ]\n",
    "```\n",
    "\n",
    "#### Ejemplos\n",
    "\n",
    "##### Lista vacía"
   ]
  },
  {
   "cell_type": "code",
   "execution_count": null,
   "metadata": {},
   "outputs": [],
   "source": [
    "lista = []\n",
    "print(lista)"
   ]
  },
  {
   "cell_type": "markdown",
   "metadata": {},
   "source": [
    "##### Lista de enteros"
   ]
  },
  {
   "cell_type": "code",
   "execution_count": null,
   "metadata": {},
   "outputs": [],
   "source": [
    "lista = [3, 4, 2, 9, 6]\n",
    "print(lista)"
   ]
  },
  {
   "cell_type": "markdown",
   "metadata": {},
   "source": [
    "##### Lista de strings"
   ]
  },
  {
   "cell_type": "code",
   "execution_count": null,
   "metadata": {},
   "outputs": [],
   "source": [
    "lista = ['a', 'b', 'c', 'd']\n",
    "print(lista)"
   ]
  },
  {
   "cell_type": "markdown",
   "metadata": {},
   "source": [
    "#### Lista mixta (no recomendable, pero posible)"
   ]
  },
  {
   "cell_type": "code",
   "execution_count": null,
   "metadata": {},
   "outputs": [],
   "source": [
    "lista = ['a', 3.4, True]\n",
    "print(lista)"
   ]
  },
  {
   "cell_type": "markdown",
   "metadata": {},
   "source": [
    "#### Lista de listas"
   ]
  },
  {
   "cell_type": "code",
   "execution_count": null,
   "metadata": {},
   "outputs": [],
   "source": [
    "lista = [[1, 2, 3], [4, 5, 6], [7, 8, 9]]\n",
    "print(lista)"
   ]
  },
  {
   "cell_type": "markdown",
   "metadata": {},
   "source": [
    "### Índice\n",
    "\n",
    "Al igual que los strings, son ***secuencias*** y por lo tanto son indexables"
   ]
  },
  {
   "cell_type": "code",
   "execution_count": null,
   "metadata": {},
   "outputs": [],
   "source": [
    "lista = [3, 4, 3, 9, 6]\n",
    "print(lista[3])\n",
    "print(lista[-2])"
   ]
  },
  {
   "cell_type": "markdown",
   "metadata": {},
   "source": [
    "### Slice\n",
    "También se puede obtener un *slice*\n",
    "\n",
    "#### Sintaxis\n",
    "\n",
    "```python\n",
    "lista = [elemento0, elemento1, ... ]\n",
    "lista[i:j] # trozo de lista desde i a j (j no incluido)\n",
    "lista[i:j:k] # trozo de lista desde i a j con paso k\n",
    "```"
   ]
  },
  {
   "cell_type": "code",
   "execution_count": null,
   "metadata": {},
   "outputs": [],
   "source": [
    "l = [3, 4, 2, 7, 9, 6]\n",
    "print(l[1:4])\n",
    "print(l[3:])\n",
    "print(l[:2])\n",
    "print(l[1:5:2])\n",
    "print(l[1::2])\n",
    "print(l[:5:3])\n",
    "print(l[::2])\n",
    "print(l[::-1])"
   ]
  },
  {
   "cell_type": "markdown",
   "metadata": {},
   "source": [
    "### Mutable\n",
    "A diferencia de los strings, son ***mutables***, por lo tanto pueden modificarse"
   ]
  },
  {
   "cell_type": "code",
   "execution_count": null,
   "metadata": {},
   "outputs": [],
   "source": [
    "lista = [3, 4, 3, 9, 6]\n",
    "print(lista)\n",
    "lista[0] = 6\n",
    "print(lista)"
   ]
  },
  {
   "cell_type": "markdown",
   "metadata": {},
   "source": [
    "### Operadores\n",
    "\n",
    "Algunas operaciones típicas sobre listas son las siguientes\n",
    "\n",
    "Operador | Operación\n",
    "--- | --- | ---\n",
    "```l_1 + l_2``` | Retorna la concatenación de l_1 y l_2\n",
    "```l * n``` | Retorna una lista que es n veces l\n",
    "```i in l``` | Retorna True ssi un elemento de l es igual a i\n",
    "```i not in l``` | Retorna True ssi ningún elemento de l es igual a i"
   ]
  },
  {
   "cell_type": "code",
   "execution_count": null,
   "metadata": {},
   "outputs": [],
   "source": [
    "l_1 = [1, 2, 3]\n",
    "l_2 = [4, 5]\n",
    "\n",
    "print(l_1 + l_2)\n",
    "print(l_2 * 3)\n",
    "print(2 in l_1)\n",
    "print(2 not in l_2)"
   ]
  },
  {
   "cell_type": "markdown",
   "metadata": {},
   "source": [
    "### Funciones sobre listas\n",
    "\n",
    "Algunas funciones útiles que se pueden aplicar sobre las listas son\n",
    "\n",
    "Función | Resultado\n",
    "--- | --- \n",
    "```len(l)``` | Retorna la cantidad de elementos de l\n",
    "```max(l)``` | Retorna el elemento de máximo valor en l\n",
    "```min(l)``` | Retorna el elemento de mínimo valor en l\n",
    "```sum(l)``` | Retorna la suma de todos los elementos de l"
   ]
  },
  {
   "cell_type": "code",
   "execution_count": null,
   "metadata": {},
   "outputs": [],
   "source": [
    "lista = [4,2,16,8]\n",
    "print(len(lista))\n",
    "print(max(lista))\n",
    "print(min(lista))\n",
    "print(sum(lista))"
   ]
  },
  {
   "cell_type": "markdown",
   "metadata": {},
   "source": [
    "### Iterable\n",
    "Las listas al ser ***secuencias***, son iterables y por lo tanto podemos utiliar el **for** sobre ellas\n",
    "\n",
    "#### Sintaxis\n",
    "\n",
    "```python\n",
    "for variable in lista:\n",
    "    codigo_for\n",
    "    codigo_for\n",
    "    codigo_for\n",
    "```\n",
    "\n",
    "#### Ejemplo"
   ]
  },
  {
   "cell_type": "code",
   "execution_count": null,
   "metadata": {},
   "outputs": [],
   "source": [
    "lista_de_compras = ['fruta', 'carne', 'arroz']\n",
    "\n",
    "for producto in lista_de_compras:\n",
    "    print('No olvidar comprar', producto)"
   ]
  },
  {
   "cell_type": "markdown",
   "metadata": {},
   "source": [
    "Formas equivalentes de hacer lo mismo son:"
   ]
  },
  {
   "cell_type": "code",
   "execution_count": null,
   "metadata": {},
   "outputs": [],
   "source": [
    "lista_de_compras = ['fruta', 'carne', 'arroz']\n",
    "\n",
    "for i in range(len(lista_de_compras)):\n",
    "    producto = lista_de_compras[i]\n",
    "    print('No olvidar comprar', producto)"
   ]
  },
  {
   "cell_type": "code",
   "execution_count": null,
   "metadata": {},
   "outputs": [],
   "source": [
    "lista_de_compras = ['fruta', 'carne', 'arroz']\n",
    "\n",
    "i = 0\n",
    "while i < len(lista_de_compras):\n",
    "    producto = lista_de_compras[i]\n",
    "    print('No olvidar comprar', producto)\n",
    "    i += 1"
   ]
  },
  {
   "cell_type": "markdown",
   "metadata": {},
   "source": [
    "## Actividades\n",
    "\n",
    "### N dado\n",
    "Crear un programa que le pida al usuario dos números: N y M, simule el lanzamiento de un dado de N caras M veces e imprima cuántas veces salió cada cara\n",
    "\n",
    "***Hint***: Para obtener una lista de N 0's se puede escribir [0] * N"
   ]
  },
  {
   "cell_type": "code",
   "execution_count": null,
   "metadata": {},
   "outputs": [],
   "source": [
    "#Código dado"
   ]
  },
  {
   "cell_type": "markdown",
   "metadata": {},
   "source": [
    "### N dado función\n",
    "Crear una función que reciba 2 números: N y M, simule el lanzamiento de un dado de N caras M veces y retorne la cantidad de veces que salió cada cara"
   ]
  },
  {
   "cell_type": "code",
   "execution_count": null,
   "metadata": {},
   "outputs": [],
   "source": [
    "#Código dado"
   ]
  },
  {
   "cell_type": "markdown",
   "metadata": {},
   "source": [
    "### Gato\n",
    "\n",
    "Escribir un programa que indique el estado de un tablero de gato:\n",
    "- Gana X\n",
    "- Gana O\n",
    "- Sin terminar\n",
    "\n",
    "\n",
    "0,0 | 0,1 | 0,2\n",
    "--- | --- | ---\n",
    "1,0 | 1,1 | 1,2\n",
    "2,0 | 2,1 | 2,2\n",
    "\n",
    "Debe pedir al usuario el valor en cada posición del tablero"
   ]
  },
  {
   "cell_type": "code",
   "execution_count": null,
   "metadata": {},
   "outputs": [],
   "source": [
    "#Código gato"
   ]
  },
  {
   "cell_type": "markdown",
   "metadata": {},
   "source": [
    "### Gato función\n",
    "Escribir una función que reciba un tablero de gato y retorne su estado:\n",
    "- 'X' (si gana X)\n",
    "- 'O' (si gana O)\n",
    "- '' (Si el juego está sin terminar)\n",
    "\n",
    "\n",
    "0,0 | 0,1 | 0,2\n",
    "--- | --- | ---\n",
    "1,0 | 1,1 | 1,2\n",
    "2,0 | 2,1 | 2,2\n"
   ]
  },
  {
   "cell_type": "code",
   "execution_count": null,
   "metadata": {},
   "outputs": [],
   "source": [
    "#Código gato"
   ]
  }
 ],
 "metadata": {
  "anaconda-cloud": {},
  "kernelspec": {
   "display_name": "Python 3",
   "language": "python",
   "name": "python3"
  },
  "language_info": {
   "codemirror_mode": {
    "name": "ipython",
    "version": 3
   },
   "file_extension": ".py",
   "mimetype": "text/x-python",
   "name": "python",
   "nbconvert_exporter": "python",
   "pygments_lexer": "ipython3",
   "version": "3.6.3"
  }
 },
 "nbformat": 4,
 "nbformat_minor": 1
}
