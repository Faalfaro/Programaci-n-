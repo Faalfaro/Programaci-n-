{
 "cells": [
  {
   "cell_type": "markdown",
   "metadata": {},
   "source": [
    "# Archivos\n",
    "\n",
    "## Motivación\n",
    "Hasta el momento, **todos** los programas que hemos creado tienen **2 problemas**\n",
    "\n",
    "1. Al cerrar el programa, se pierde toda la interacción que hayamos realizado\n",
    "2. Siempre debemos generar resultados desde cero\n",
    "\n",
    "Para enfrentar estos problemas podemos leer y escribir archivos desde python\n",
    "\n",
    "## Sistema de Archivos\n",
    "\n",
    "¿Dónde viven los datos en un computador?\n",
    "\n",
    "### Memoria principal \n",
    "\n",
    "#### RAM (Random Access Memory)\n",
    "\n",
    "![alt text](http://www.clipartkid.com/images/205/latest-ddr-ram-prices-in-india-256mb-512mb-1gb-2gb-ddr-ram-jPCZ8S-clipart.png \"Memoria RAM\")\n",
    "\n",
    "- Funciona en base a corriente\n",
    "- Es muy rápida\n",
    "- Costosa (1GB a 16GB en PC convencional)\n",
    "- Volátil\n",
    "\n",
    "Aquí viven las variables de nuestro programa cuando lo ejecutamos. Si se cierra el programa o se apaga el PC todo se pierde.\n",
    "\n",
    "### Memoria secundaria\n",
    "\n",
    "#### HDD (Hard Disk Drive)\n",
    "\n",
    "![alt text](https://cdn-reichelt.de/bilder/web/xxl_ws/E600/ST1000LM035_06.png \"HDD\")\n",
    "\n",
    "- Funciona en base a cambios magnéticos en un disco físico\n",
    "- Es lenta\n",
    "- Barata (200GB a 1TB en PC convencional)\n",
    "- No volátil\n",
    "\n",
    "Aquí guardamos las cosas que queremos que perduren:\n",
    "Documentos, imágenes, cógidos python, programas, etc\n",
    "\n",
    "\n",
    "### Sistema de archivos\n",
    "Es la forma en que el sistema operativo guarda y organiza su memoria permanente. Actualmente la mayoría de los sistemas operativos utiliza un sistema de archivos jerárquico (HFS)\n",
    "\n",
    "1. Carpetas contienen archivos y subcarpetas\n",
    "2. Cada archivo pertenece a una carpeta\n",
    "3. Existe una carpeta inicial llamada **root**\n",
    "\n",
    "![alt text](https://www.ibm.com/support/knowledgecenter/en/SSLTBW_2.1.0/com.ibm.zos.v2r1.bpxa400/bpxa4hsh.gif \"HFS\")\n",
    "\n",
    "¿Cuál es la carpeta root?\n",
    "- Windows: **C:\\ **\n",
    "- Unix (Mac y Linux): **/**\n",
    "\n",
    "Python nos provee del módulo **os** que contiene varias funciones para trabajar con el sistema de archivos\n",
    "\n",
    "#### os.getcwd()\n",
    "Indica el directorio actual"
   ]
  },
  {
   "cell_type": "code",
   "execution_count": null,
   "metadata": {},
   "outputs": [],
   "source": [
    "import os\n",
    "\n",
    "print(os.getcwd())"
   ]
  },
  {
   "cell_type": "markdown",
   "metadata": {},
   "source": [
    "#### os.chdir(path)\n",
    "\n",
    "Cambia el directorio actual a **path**.\n",
    "\n",
    "Existen 2 tipos de path:\n",
    "1. Absoluto: Ruta desde carpeta root hasta el archivo o carpeta. Por ejemplo:\n",
    "    - /home/mofadic\n",
    "    - /home/mofadic/intro\n",
    "    - /home/mofadic/intro/hola.txt\n",
    "    \n",
    "2. Relativo: Ruta desde la carpeta actual hasta el archivo o carpeta. **Notación importante**:\n",
    "    - **./** Se refiere a la carpeta actual\n",
    "    - **../** Se refieres a la carpeta padre\n",
    "    \n",
    "    Por ejemplo:\n",
    "    - ./Documents (la carpeta Documents dentro de la carpeta actual)\n",
    "    - ../notas.txt (el archivo notas.txt en la carpeta padre de la actual)"
   ]
  },
  {
   "cell_type": "code",
   "execution_count": null,
   "metadata": {},
   "outputs": [],
   "source": [
    "import os\n",
    "\n",
    "#Carpeta actual\n",
    "print(os.getcwd())\n",
    "\n",
    "#Moverse a la carpeta padre\n",
    "os.chdir('../')\n",
    "print(os.getcwd())\n",
    "\n",
    "#Moverse a la carpeta Users en la raíz del disco C de forma absoluta\n",
    "#Esto solo va a funcionar en Windows\n",
    "os.chdir('C:/Users')\n",
    "print(os.getcwd())\n",
    "\n",
    "#Moverse a la carpeta home en la raiz del filesystem en forma absoluta\n",
    "#Esto solo va a funcionar en Linux y Mac\n",
    "os.chdir('/home')\n",
    "print(os.getcwd())\n"
   ]
  },
  {
   "cell_type": "markdown",
   "metadata": {},
   "source": [
    "#### os.listdir(path)\n",
    "Retorna una lista con los nombres de los elementos en **path**. Si no se entrega ningún parámetro, retorna la lista de los elementos de la carpeta actual.\n",
    "\n",
    "#### os.makedir(c)\n",
    "Crea la carpeta **c**\n",
    "\n",
    "#### os.remove(path)\n",
    "Borra el archivo **path**\n",
    "\n",
    "#### os.rmdir(c)\n",
    "Borra la carpeta **c** (que debe estar vacía)\n",
    "\n",
    "#### os.path.exists(path)\n",
    "Retorna True ssi **path** existe\n",
    "\n",
    "#### os.path.isfile(path)\n",
    "Retorna True ssi **path** es un archivo\n",
    "\n",
    "#### os.path.isdir(path)\n",
    "Retorna True ssi **path** es una carpeta\n",
    "\n",
    "### Archivo\n",
    "\n",
    "Documento binario con un nombre y una extensión: Por ejemplo\n",
    "tarea1.py\n",
    "- nombre: tarea1\n",
    "- extension: .py\n",
    "\n",
    "\n",
    "![archivo](https://camo.githubusercontent.com/0b5edb319101c259645c0dbbfe4d1e69094a883b/68747470733a2f2f662e636c6f75642e6769746875622e636f6d2f6173736574732f3833343633362f31353638322f61323464613561632d343762302d313165322d383133612d6536323131343334663364302e706e67 \"Archivo binario\")\n",
    "\n",
    "Existen múltiples opciones para decodificar el archivo binario.\n",
    "- Pasar cada byte (8 bits) a número\n",
    "- Pasar cada byte a UTF-8\n",
    "- Interpretar los bytes como pixeles de una imagen\n",
    "- Etc\n",
    "\n",
    "La **extensión** nos indica cómo decodificar cada archivo. \n",
    "\n",
    "Algunas extensiones comunes son:\n",
    "- .txt: Documento de texto plano\n",
    "- .doc: Documento Word\n",
    "- .jpg: Imágenes\n",
    "- .mp3: Música\n",
    "\n",
    "Nosotros nos centraremos en el formato de **texto plano**.\n",
    "\n",
    "**Obs:** .py es formato de texto plano\n",
    "\n",
    "## Lectura de archivos\n",
    "\n",
    "Python provee de distintas funciones y métodos para leer archivos:\n",
    "\n",
    "#### open(path)\n",
    "Retorna un objeto que representa al archivo en **path**\n",
    "\n",
    "Para las siguientes instrucciones, se asume que se guardó lo retornado por open(path) en una variable de nombre file.\n",
    "\n",
    "#### file.readline()\n",
    "Retorna la siguiente línea del archivo.\n",
    "\n",
    "#### file.close()\n",
    "Cierra el archivo\n",
    "\n",
    "Consideremos el siguiente archivo. 'frases_de_internet.txt'\n",
    "\n",
    "```\n",
    "El amor es un mejor profesor que el deber.\n",
    "Información no es conocimiento.\n",
    "Nunca pierdas la sagrada curiosidad.\n",
    "Si no puedes explicarlo de forma simple , no lo entiendes lo suficientemente bien.\n",
    "Todos deben ser respetados como individuos, pero no idolotrados.\n",
    "\n",
    "Nunca hagas algo contra tu consciencia incluso si la situiacón lo demanda.\n",
    "Locura : hacer l o mismo una y otra vez , esperando diferentes resultados.\n",
    "Un hombre debe buscar lo que es , no lo que piensa que es.\n",
    "Una persona que nunca ha cometido un error nunca ha intentado algo nuevo.\n",
    "Aprende del ayer , vive del hoy , espera del mañana.\n",
    "\n",
    "Todo debe ser tan simple como es, pero no más sencillo.\n",
    "La lógica te lleva del punto A al B. La imaginación te llevará donde sea.\n",
    "```"
   ]
  },
  {
   "cell_type": "markdown",
   "metadata": {
    "collapsed": true
   },
   "source": [
    "Leamos el archivo frases_de_internet.txt y mostremos sus primeras líneas (hay que reiniciar el kernel ya que nos movimos de carpeta anteriormente)"
   ]
  },
  {
   "cell_type": "code",
   "execution_count": null,
   "metadata": {},
   "outputs": [],
   "source": [
    "file = open('frases_de_internet.txt')\n",
    "\n",
    "line = file.readline()\n",
    "print(line)\n",
    "\n",
    "line = file.readline()\n",
    "print(line)\n",
    "\n",
    "file.close()"
   ]
  },
  {
   "cell_type": "markdown",
   "metadata": {},
   "source": [
    "Si nos fijamos detenidamente, aparece una línea en blanco que no está en el archivo original. Esto es porque la línea que uno lee con readline() incluye el salto de línea, y la función print() agrega su propio salto de línea, por lo que hay hay 2 saltos de línea. Para solucionar esto, podemos utilizar el método rstrip() que elimina los *white spaces* de la derecha."
   ]
  },
  {
   "cell_type": "code",
   "execution_count": null,
   "metadata": {},
   "outputs": [],
   "source": [
    "file = open('frases_de_internet.txt')\n",
    "\n",
    "line = file.readline()\n",
    "print(line.rstrip())\n",
    "\n",
    "line = file.readline()\n",
    "print(line.rstrip())\n",
    "\n",
    "file.close()"
   ]
  },
  {
   "cell_type": "markdown",
   "metadata": {},
   "source": [
    "Dependiendo de la configuración del computador, es posible que diga InformaciÃ³n en vez de Información. Esto ocurre, porque la \"ó\" tiene distintos valores dependiendo de la codificación utilizada. Cuando creé el archivo frases_de_internet.txt utilicé la codificación utf-8. Por defecto, al usar open(path), python utilizará la codificación por defecto que encuentre en el sistema. Si estas condificaciones no son iguales, algunas letras se interpretaran de forma incorrecta. Podemos utilizar el parámetro opcional encoding de open para especificar con qué encoding queremos trabajar."
   ]
  },
  {
   "cell_type": "code",
   "execution_count": null,
   "metadata": {},
   "outputs": [],
   "source": [
    "file = open('frases_de_internet.txt', encoding='utf-8')\n",
    "\n",
    "line = file.readline()\n",
    "print(line.rstrip())\n",
    "\n",
    "line = file.readline()\n",
    "print(line.rstrip())\n",
    "\n",
    "file.close()"
   ]
  },
  {
   "cell_type": "markdown",
   "metadata": {},
   "source": [
    "Podemos leer todo el archivo de varias maneras:\n",
    "\n",
    "#### Leer hasta encontrar una línea vacía"
   ]
  },
  {
   "cell_type": "code",
   "execution_count": null,
   "metadata": {},
   "outputs": [],
   "source": [
    "file = open('frases_de_internet.txt', encoding='utf-8')\n",
    "\n",
    "line = file.readline()\n",
    "while line != '':\n",
    "    print(line.rstrip())\n",
    "    line =  file.readline()\n",
    "    \n",
    "file.close()"
   ]
  },
  {
   "cell_type": "markdown",
   "metadata": {},
   "source": [
    "#### Iterar sobre las líneas del archivo\n",
    "\n",
    "El objeto retornado por open() es iterable, por lo que podemos aplicar for sobre él. En cada iteración del for tendremos una línea"
   ]
  },
  {
   "cell_type": "code",
   "execution_count": null,
   "metadata": {},
   "outputs": [],
   "source": [
    "file = open('frases_de_internet.txt', encoding='utf-8')\n",
    "\n",
    "for line in file:\n",
    "    print(line.rstrip())\n",
    "    \n",
    "file.close()"
   ]
  },
  {
   "cell_type": "markdown",
   "metadata": {},
   "source": [
    "#### Obtener todas las líneas en una lista\n",
    "\n",
    "La función readlines de los archivos retorna una lista con todas las líneas"
   ]
  },
  {
   "cell_type": "code",
   "execution_count": null,
   "metadata": {},
   "outputs": [],
   "source": [
    "file = open('frases_de_internet.txt', encoding='utf-8')\n",
    "\n",
    "lines = file.readlines()\n",
    "for line in lines:\n",
    "    print(line.rstrip())\n",
    "    \n",
    "file.close()"
   ]
  },
  {
   "cell_type": "markdown",
   "metadata": {},
   "source": [
    "### Caso práctico\n",
    "Muchas veces necesitamos manejar información tabulada. Por ejemplo las notas de todos los alumnos. Los documentos .csv (comma-separated values) son archivos de texto plano que tienen una estructura definida que permite interpretarlos como tablas. En ellos, cada fila del archivo representa una fila de la tabla, y los elementos de las distintas columnas están separados entre sí por un *separador* (normalmente se utiliza la coma, por eso el nombre csv, pero puede ser cualquier caracter que uno elija).\n",
    "\n",
    "Por ejemplo, un archivo con notas podría verse de la siguiente manera:\n",
    "```\n",
    "16630513,1.2,1.4,3.2,4.9,6.7,2.9,7.0\n",
    "16633877,2.2,5.4,3.7,2.6,5.2,5.5,3.2\n",
    "16631324,6.0,5.3,3.4,5.3,1.7,2.2,5.9\n",
    "16638447,3.1,3.0,6.8,3.2,6.4,1.7,2.7\n",
    "```\n",
    "Donde las columnas en orden son, número de alumno, nota I1, I2, EX, T1, T2, T3, NP. Aprovechando la estructura del archivo, podemos hacer un programa que calcule e imprima las notas de cada alumno de manera sencilla:"
   ]
  },
  {
   "cell_type": "code",
   "execution_count": null,
   "metadata": {},
   "outputs": [],
   "source": [
    "file = open('notas.csv')\n",
    "\n",
    "for line in file:\n",
    "    columnas = line.split(',')\n",
    "    n_alumno = columnas[0]\n",
    "    i1 = float(columnas[1])\n",
    "    i2 = float(columnas[2])\n",
    "    ex = float(columnas[3])\n",
    "    t1 = float(columnas[4])\n",
    "    t2 = float(columnas[5])\n",
    "    t3 = float(columnas[6])\n",
    "    np = float(columnas[7])\n",
    "    \n",
    "    nf = 0.15*(i1+i2) + 0.3*ex + 0.1*(t1+t2+t3) + 0.1*np\n",
    "    \n",
    "    pe = (0.15*(i1+i2) + 0.3*ex)/0.6\n",
    "    pt = (t1+t2+t3)/3\n",
    "    \n",
    "    if pe < 4 or pt < 4:\n",
    "        nf = min(nf, 4)\n",
    "    \n",
    "    print('La nota final de {} es {:.1f}'.format(n_alumno,nf))"
   ]
  },
  {
   "cell_type": "markdown",
   "metadata": {},
   "source": [
    "## Escritura de Archivos\n",
    "\n",
    "Para escribir un archivo\n",
    "\n",
    "#### open(path, modo)\n",
    "Retorna un objeto que representa al archivo en **path**. El parámetro **modo** indica lo que podemos hacer con el archivo.\n",
    "\n",
    "- modo='r': lectura (por defecto)\n",
    "- modo='w': escritura\n",
    "- modo='a': *append*\n",
    "\n",
    "La diferencia entre los modos escritura y *append*, es que en el modo escritura, se crea un nuevo archivo en **path**. Si el archivo ya existe, borra su contenido. En el modo *append*, si el archivo ya existe, el contenido nuevo se agrega a continuación del ya existente.\n",
    "\n",
    "Para las siguientes instrucciones, se asume que se guardó lo retornado por open(path, modo) en una variable de nombre file.\n",
    "\n",
    "#### file.write(s)\n",
    "Escribe el string **s** en el archivo\n",
    "\n",
    "#### file.close(s)\n",
    "Cierra el archivo\n",
    "\n",
    "#### Ejemplo\n",
    "Para escribir los números del 1 al 5 en un archivo."
   ]
  },
  {
   "cell_type": "code",
   "execution_count": null,
   "metadata": {},
   "outputs": [],
   "source": [
    "file = open('numeros.txt', 'w')\n",
    "\n",
    "for i in range(1, 6):\n",
    "    file.write(str(i) + '\\n')\n",
    "    \n",
    "file.close()"
   ]
  },
  {
   "cell_type": "markdown",
   "metadata": {},
   "source": [
    "**Obs**: A diferencia del print(), write() no agrega un salto de línea al final automáticamente.\n",
    "\n",
    "Podemos verificar el contenido del archivo recién creado:"
   ]
  },
  {
   "cell_type": "code",
   "execution_count": null,
   "metadata": {},
   "outputs": [],
   "source": [
    "file = open('numeros.txt')\n",
    "\n",
    "for line in file:\n",
    "    print(line.rstrip())\n",
    "    \n",
    "file.close()"
   ]
  },
  {
   "cell_type": "markdown",
   "metadata": {},
   "source": [
    "Si escribimos en el mismo archivo usando el modo 'w', el contenido debería sobreescribirse."
   ]
  },
  {
   "cell_type": "code",
   "execution_count": null,
   "metadata": {},
   "outputs": [],
   "source": [
    "file = open('numeros.txt', 'w')\n",
    "\n",
    "for i in range(1, 6):\n",
    "    file.write(str(i) + '\\n')\n",
    "    \n",
    "file.close()\n",
    "\n",
    "\n",
    "file = open('numeros.txt')\n",
    "\n",
    "for line in file:\n",
    "    print(line.rstrip())\n",
    "    \n",
    "file.close()"
   ]
  },
  {
   "cell_type": "markdown",
   "metadata": {},
   "source": [
    "Si usamos el modo 'a', el contenido nuevo se agregará al final"
   ]
  },
  {
   "cell_type": "code",
   "execution_count": null,
   "metadata": {},
   "outputs": [],
   "source": [
    "file = open('numeros.txt', 'a')\n",
    "\n",
    "for i in range(1, 6):\n",
    "    file.write(str(i) + '\\n')\n",
    "    \n",
    "file.close()\n",
    "\n",
    "\n",
    "file = open('numeros.txt')\n",
    "\n",
    "for line in file:\n",
    "    print(line.rstrip())\n",
    "    \n",
    "file.close()"
   ]
  },
  {
   "cell_type": "markdown",
   "metadata": {},
   "source": [
    "## Actividades\n",
    "\n",
    "### Líneas cortas\n",
    "\n",
    "Crear un programa que lea el archivo frases_de_internet.txt y muestre solo las líneas con menos de 70 caracteres"
   ]
  },
  {
   "cell_type": "code",
   "execution_count": null,
   "metadata": {},
   "outputs": [],
   "source": [
    "#Código líneas"
   ]
  },
  {
   "cell_type": "markdown",
   "metadata": {},
   "source": [
    "### Líneas de largo menor a n\n",
    "\n",
    "Crear una función que reciba un path y un número n. La función debe leer el archivo en path y mostrar solo las líneas de largo menor a n"
   ]
  },
  {
   "cell_type": "code",
   "execution_count": null,
   "metadata": {},
   "outputs": [],
   "source": [
    "#Código función"
   ]
  },
  {
   "cell_type": "markdown",
   "metadata": {},
   "source": [
    "### Calculador nota final\n",
    "\n",
    "Crear un programa que lea el archivo notas.csv, que tiene la misma estructura del ejemplo y escriba un archivo notas_finales.csv, donde en cada fila esté almacenado el número de alumno y el promedio final.\n",
    "\n",
    "**Extra**: Luego de escribir el archivo, imprima en pantalla la nota máxima, mínima y el promedio del curso"
   ]
  },
  {
   "cell_type": "code",
   "execution_count": null,
   "metadata": {
    "collapsed": true
   },
   "outputs": [],
   "source": [
    "#Código calculador"
   ]
  },
  {
   "cell_type": "markdown",
   "metadata": {},
   "source": [
    "## Mezclado de canciones\n",
    "Escribir un programa que muestre el nombre de todos los archivos en la carpeta, permita elegir 2 y cree un nuevo archivo con el megamix de ambos.\n",
    "\n",
    "- Los archivos tienen la letra de la canción\n",
    "- El archivo generado tiene que tener un nombre que indique de qué canciones es megamix\n",
    "- Puedes armar el megamix como se te ocurra (intercalar las líneas, utilizar números aleatorios, etc...)\n",
    "- Puedes agregar tus propias canciones"
   ]
  },
  {
   "cell_type": "code",
   "execution_count": null,
   "metadata": {},
   "outputs": [],
   "source": [
    "#Código mezclador"
   ]
  }
 ],
 "metadata": {
  "anaconda-cloud": {},
  "kernelspec": {
   "display_name": "Python 3",
   "language": "python",
   "name": "python3"
  },
  "language_info": {
   "codemirror_mode": {
    "name": "ipython",
    "version": 3
   },
   "file_extension": ".py",
   "mimetype": "text/x-python",
   "name": "python",
   "nbconvert_exporter": "python",
   "pygments_lexer": "ipython3",
   "version": "3.6.3"
  }
 },
 "nbformat": 4,
 "nbformat_minor": 1
}
